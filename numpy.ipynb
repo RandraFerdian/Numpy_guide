{
  "nbformat": 4,
  "nbformat_minor": 0,
  "metadata": {
    "colab": {
      "provenance": [],
      "toc_visible": true,
      "authorship_tag": "ABX9TyNtIQIs04Fe8wzfYtRuh9H7",
      "include_colab_link": true
    },
    "kernelspec": {
      "name": "python3",
      "display_name": "Python 3"
    },
    "language_info": {
      "name": "python"
    }
  },
  "cells": [
    {
      "cell_type": "markdown",
      "metadata": {
        "id": "view-in-github",
        "colab_type": "text"
      },
      "source": [
        "<a href=\"https://colab.research.google.com/github/RandraFerdian/Numpy_guide/blob/main/numpy.ipynb\" target=\"_parent\"><img src=\"https://colab.research.google.com/assets/colab-badge.svg\" alt=\"Open In Colab\"/></a>"
      ]
    },
    {
      "cell_type": "markdown",
      "source": [
        "#Installasi & Import"
      ],
      "metadata": {
        "id": "saSNrQu9RomZ"
      }
    },
    {
      "cell_type": "markdown",
      "source": [
        "####Installasi"
      ],
      "metadata": {
        "id": "HM4XrsifRvlJ"
      }
    },
    {
      "cell_type": "code",
      "execution_count": 3,
      "metadata": {
        "colab": {
          "base_uri": "https://localhost:8080/"
        },
        "id": "JwUZ2AU4RfOQ",
        "outputId": "35ec067d-abf2-4687-ec2c-2225de2f5f4b"
      },
      "outputs": [
        {
          "output_type": "stream",
          "name": "stdout",
          "text": [
            "Requirement already satisfied: numpy in /usr/local/lib/python3.11/dist-packages (2.0.2)\n"
          ]
        }
      ],
      "source": [
        "pip install numpy"
      ]
    },
    {
      "cell_type": "markdown",
      "source": [
        "####Import"
      ],
      "metadata": {
        "id": "ggOdmVJbSIxq"
      }
    },
    {
      "cell_type": "code",
      "source": [
        "import numpy as np"
      ],
      "metadata": {
        "id": "ryPnQ6JASUWR"
      },
      "execution_count": 4,
      "outputs": []
    },
    {
      "cell_type": "markdown",
      "source": [
        "#Membuat Array"
      ],
      "metadata": {
        "id": "5bPR8K4vSdPp"
      }
    },
    {
      "cell_type": "markdown",
      "source": [
        "####**Dari List Python: np.array()**"
      ],
      "metadata": {
        "id": "575FiauHSiAR"
      }
    },
    {
      "cell_type": "code",
      "source": [
        "# Membuat array 1 dimensi (vektor)\n",
        "list_saya = [1, 2, 3, 4, 5]\n",
        "arr_1d = np.array(list_saya)\n",
        "\n",
        "print(\"array 1 Dimensi\")\n",
        "print(arr_1d)\n",
        "# Output: [1 2 3 4 5]\n",
        "\n",
        "# Membuat array 2 dimensi (matriks) dari list bersarang\n",
        "list_2d = [[1, 2, 3], [4, 5, 6]]\n",
        "arr_2d = np.array(list_2d)\n",
        "\n",
        "print(\"array 2 Dimensi\")\n",
        "print(arr_2d)\n",
        "# Output:\n",
        "# [[1 2 3]\n",
        "#  [4 5 6]]\n",
        "\n",
        "# Membuat array 3 dimensi (matriks) dari list\n",
        "list_3d = [[1, 2, 3], [4, 5, 6],[7,8,9]]\n",
        "arr_3d = np.array(list_3d)\n",
        "\n",
        "print(\"array 3 Dimensi\")\n",
        "print(arr_3d)"
      ],
      "metadata": {
        "colab": {
          "base_uri": "https://localhost:8080/"
        },
        "id": "VA7k9beTSskx",
        "outputId": "be46a36d-7bbe-429e-cb37-4ab8375ee1cc"
      },
      "execution_count": 8,
      "outputs": [
        {
          "output_type": "stream",
          "name": "stdout",
          "text": [
            "array 1 Dimensi\n",
            "[1 2 3 4 5]\n",
            "array 2 Dimensi\n",
            "[[1 2 3]\n",
            " [4 5 6]]\n",
            "array 3 Dimensi\n",
            "[[1 2 3]\n",
            " [4 5 6]\n",
            " [7 8 9]]\n"
          ]
        }
      ]
    },
    {
      "cell_type": "markdown",
      "source": [
        "####**Menggunakan Fungsi Bawaan NumPy**\n",
        "\n",
        "\n"
      ],
      "metadata": {
        "id": "w-3neRniTpt3"
      }
    },
    {
      "cell_type": "markdown",
      "source": [
        "#####np.arange(start, stop, step)"
      ],
      "metadata": {
        "id": "YJjPDta-Tr0B"
      }
    },
    {
      "cell_type": "markdown",
      "source": [
        "Membuat array dengan nilai dalam rentang tertentu, mirip seperti range() pada Python."
      ],
      "metadata": {
        "id": "qJW5omMYT_Ux"
      }
    },
    {
      "cell_type": "code",
      "source": [
        "arr_range = np.arange(0, 10, 2) # Mulai dari 0, berhenti sebelum 10, dengan langkah 2\n",
        "print(arr_range)\n",
        "# Output: [0 2 4 6 8]"
      ],
      "metadata": {
        "colab": {
          "base_uri": "https://localhost:8080/"
        },
        "id": "E9pPD86PT3yJ",
        "outputId": "75ab0171-05ee-4114-ae9e-1c72e98f66a0"
      },
      "execution_count": 7,
      "outputs": [
        {
          "output_type": "stream",
          "name": "stdout",
          "text": [
            "[0 2 4 6 8]\n"
          ]
        }
      ]
    },
    {
      "cell_type": "markdown",
      "source": [
        "#####np.zeros(shape)"
      ],
      "metadata": {
        "id": "S84rBxZUUVPh"
      }
    },
    {
      "cell_type": "markdown",
      "source": [
        "Membuat array yang semua elemennya berisi angka 0."
      ],
      "metadata": {
        "id": "sBrvZ0WNUaw5"
      }
    },
    {
      "cell_type": "code",
      "source": [
        "arr_zeros = np.zeros((2, 3)) # Membuat matriks 2x3 berisi nol\n",
        "print(arr_zeros)\n",
        "# Output:\n",
        "# [[0. 0. 0.]\n",
        "#  [0. 0. 0.]]"
      ],
      "metadata": {
        "id": "TagRlXZ-U63B"
      },
      "execution_count": null,
      "outputs": []
    },
    {
      "cell_type": "markdown",
      "source": [
        "#####np.ones(shape)"
      ],
      "metadata": {
        "id": "7xaOoSbjVd2R"
      }
    },
    {
      "cell_type": "markdown",
      "source": [
        "Sama seperti np.zeros(), tetapi semua elemennya berisi angka 1."
      ],
      "metadata": {
        "id": "3qQyMvn2ViPq"
      }
    },
    {
      "cell_type": "code",
      "source": [
        "arr_ones = np.ones((3, 2)) # Membuat matriks 3x2 berisi satu\n",
        "print(arr_ones)\n",
        "# Output:\n",
        "# [[1. 1.]\n",
        "#  [1. 1.]\n",
        "#  [1. 1.]]"
      ],
      "metadata": {
        "colab": {
          "base_uri": "https://localhost:8080/"
        },
        "id": "s9jG-J28VlEJ",
        "outputId": "95583af3-4265-4b01-f322-0889a10fc3e2"
      },
      "execution_count": 9,
      "outputs": [
        {
          "output_type": "stream",
          "name": "stdout",
          "text": [
            "[[1. 1.]\n",
            " [1. 1.]\n",
            " [1. 1.]]\n"
          ]
        }
      ]
    },
    {
      "cell_type": "markdown",
      "source": [
        "#####np.linspace(start, stop, num)"
      ],
      "metadata": {
        "id": "XO_8qz-iWG6C"
      }
    },
    {
      "cell_type": "markdown",
      "source": [
        "Membuat array dengan sejumlah num elemen yang terdistribusi secara merata antara start dan stop."
      ],
      "metadata": {
        "id": "ZnZeMzD9WLHq"
      }
    },
    {
      "cell_type": "code",
      "source": [
        "arr_space = np.linspace(0, 1, 5) # 5 angka dari 0 hingga 1 (inklusif)\n",
        "print(arr_space)\n",
        "# Output: [0.   0.25 0.5  0.75 1.  ]"
      ],
      "metadata": {
        "colab": {
          "base_uri": "https://localhost:8080/"
        },
        "id": "gSnsSjuYWOTp",
        "outputId": "2af2e831-cec0-427c-8e89-0adc791249fd"
      },
      "execution_count": 15,
      "outputs": [
        {
          "output_type": "stream",
          "name": "stdout",
          "text": [
            "[0.   0.25 0.5  0.75 1.  ]\n"
          ]
        }
      ]
    },
    {
      "cell_type": "markdown",
      "source": [
        "#####np.random.rand(d0, d1, ...)"
      ],
      "metadata": {
        "id": "X70lXVtuXJjC"
      }
    },
    {
      "cell_type": "markdown",
      "source": [
        "Membuat array dengan bentuk tertentu yang diisi dengan angka acak dari distribusi uniform (antara 0 dan 1)."
      ],
      "metadata": {
        "id": "T4XozZdbXLOp"
      }
    },
    {
      "cell_type": "code",
      "source": [
        "arr_rand = np.random.rand(2, 3) # Matriks acak 2x3\n",
        "print(arr_rand)\n",
        "# Output akan bervariasi, contoh:\n",
        "# [[0.123 0.456 0.789]\n",
        "#  [0.987 0.654 0.321]]"
      ],
      "metadata": {
        "colab": {
          "base_uri": "https://localhost:8080/"
        },
        "id": "xP6i6xGQXN36",
        "outputId": "a4846c2b-0c39-41ab-831e-d607d69f9961"
      },
      "execution_count": 25,
      "outputs": [
        {
          "output_type": "stream",
          "name": "stdout",
          "text": [
            "[[0.37825412 0.51729824 0.2840102 ]\n",
            " [0.67101233 0.87475129 0.37286085]]\n"
          ]
        }
      ]
    },
    {
      "cell_type": "markdown",
      "source": [
        "#Atribut Penting ndarray"
      ],
      "metadata": {
        "id": "MYOu9eq3XzSy"
      }
    },
    {
      "cell_type": "markdown",
      "source": [
        "Setiap ndarray memiliki atribut yang mendeskripsikan propertinya."
      ],
      "metadata": {
        "id": "EnWQC4SSX_J6"
      }
    },
    {
      "cell_type": "code",
      "source": [
        "arr_2d = np.array([[1, 2, 3], [4, 5, 6]])\n",
        "\n",
        "# .shape: Mengetahui dimensi (bentuk) array\n",
        "print(arr_2d.shape) # Output: (2, 3) -> 2 baris, 3 kolom\n",
        "\n",
        "# .ndim: Mengetahui jumlah dimensi\n",
        "print(arr_2d.ndim) # Output: 2\n",
        "\n",
        "# .size: Mengetahui jumlah total elemen\n",
        "print(arr_2d.size) # Output: 6\n",
        "\n",
        "# .dtype: Mengetahui tipe data elemen di dalam array\n",
        "print(arr_2d.dtype) # Output: int64 (tergantung sistem operasi)"
      ],
      "metadata": {
        "colab": {
          "base_uri": "https://localhost:8080/"
        },
        "id": "3qO4GRDxX_1R",
        "outputId": "394b85c3-7086-48db-9bc8-c06447ee2407"
      },
      "execution_count": 26,
      "outputs": [
        {
          "output_type": "stream",
          "name": "stdout",
          "text": [
            "(2, 3)\n",
            "2\n",
            "6\n",
            "int64\n"
          ]
        }
      ]
    },
    {
      "cell_type": "markdown",
      "source": [
        "#Indexing dan Slicing (Mengakses Elemen)"
      ],
      "metadata": {
        "id": "cO9P03j6YuiZ"
      }
    },
    {
      "cell_type": "markdown",
      "source": [
        "Ini adalah cara untuk mengambil elemen atau sekelompok elemen dari sebuah array."
      ],
      "metadata": {
        "id": "qeBaTXaiYxyC"
      }
    },
    {
      "cell_type": "markdown",
      "source": [
        "####Array 1D"
      ],
      "metadata": {
        "id": "pGCttkDTY2pK"
      }
    },
    {
      "cell_type": "code",
      "source": [
        "arr_1d = np.arange(10) # [0 1 2 3 4 5 6 7 8 9]\n",
        "\n",
        "# Mengambil elemen di indeks ke-2\n",
        "print(arr_1d[2]) # Output: 2\n",
        "\n",
        "# Mengambil elemen dari indeks 2 hingga 5 (indeks 5 tidak termasuk)\n",
        "print(arr_1d[2:5]) # Output: [2 3 4]"
      ],
      "metadata": {
        "id": "R9rcXDhnY11K"
      },
      "execution_count": null,
      "outputs": []
    },
    {
      "cell_type": "markdown",
      "source": [
        "####Array 2D (Matriks)"
      ],
      "metadata": {
        "id": "k7owK2GyZG0a"
      }
    },
    {
      "cell_type": "code",
      "source": [
        "arr_2d = np.array([[1, 2, 3], [4, 5, 6], [7, 8, 9]])\n",
        "\n",
        "# Mengambil satu elemen (baris 1, kolom 2)\n",
        "print(arr_2d[1, 2]) # Output: 6\n",
        "\n",
        "# Mengambil satu baris utuh (baris ke-0)\n",
        "print(arr_2d[0, :]) # Output: [1 2 3]\n",
        "# atau lebih singkat\n",
        "print(arr_2d[0])\n",
        "\n",
        "# Mengambil satu kolom utuh (kolom ke-1)\n",
        "print(arr_2d[:, 1]) # Output: [2 5 8]\n",
        "\n",
        "# Slicing sub-matriks (baris 0-1, kolom 1-2)\n",
        "print(arr_2d[0:2, 1:3])\n",
        "# Output:\n",
        "# [[2 3]\n",
        "#  [5 6]]"
      ],
      "metadata": {
        "colab": {
          "base_uri": "https://localhost:8080/"
        },
        "id": "DeLq3rHlZJFy",
        "outputId": "b77b1566-cc02-4c16-a494-6285c1fe198b"
      },
      "execution_count": 30,
      "outputs": [
        {
          "output_type": "stream",
          "name": "stdout",
          "text": [
            "6\n",
            "[1 2 3]\n",
            "[1 2 3]\n",
            "[2 5 8]\n",
            "[[2 3]\n",
            " [5 6]]\n"
          ]
        }
      ]
    },
    {
      "cell_type": "markdown",
      "source": [
        "####Boolean Indexing (Filtering)"
      ],
      "metadata": {
        "id": "6QEIPOAgZj5K"
      }
    },
    {
      "cell_type": "code",
      "source": [
        "arr = np.arange(1, 11) # [ 1  2  3  4  5  6  7  8  9 10]\n",
        "\n",
        "# Buat kondisi\n",
        "kondisi = arr > 5\n",
        "print(kondisi) # Output: [False False False False False  True  True  True  True  True]\n",
        "\n",
        "# Gunakan kondisi untuk memfilter array\n",
        "print(arr[kondisi]) # Output: [ 6  7  8  9 10]\n",
        "\n",
        "# Bisa juga digabungkan dalam satu baris\n",
        "print(arr[arr % 2 == 0]) # Mengambil semua elemen genap -> [ 2  4  6  8 10]"
      ],
      "metadata": {
        "colab": {
          "base_uri": "https://localhost:8080/"
        },
        "id": "vxEtnecEZlc6",
        "outputId": "7d1e3564-de0e-481f-a964-66b598f6ee6c"
      },
      "execution_count": 32,
      "outputs": [
        {
          "output_type": "stream",
          "name": "stdout",
          "text": [
            "[False False False False False  True  True  True  True  True]\n",
            "[ 6  7  8  9 10]\n",
            "[ 2  4  6  8 10]\n"
          ]
        }
      ]
    },
    {
      "cell_type": "markdown",
      "source": [
        "#Operasi Matematika"
      ],
      "metadata": {
        "id": "BpjhClM9Z2-r"
      }
    },
    {
      "cell_type": "markdown",
      "source": [
        "####Operasi Element-wise"
      ],
      "metadata": {
        "id": "IY7JHTDGZ5za"
      }
    },
    {
      "cell_type": "markdown",
      "source": [
        "Operasi aritmatika pada array dilakukan per elemen (element-wise)."
      ],
      "metadata": {
        "id": "BW3VAI2XZ_lS"
      }
    },
    {
      "cell_type": "code",
      "source": [
        "arr_a = np.array([1, 2, 3])\n",
        "arr_b = np.array([4, 5, 6])\n",
        "\n",
        "# Penjumlahan\n",
        "print(arr_a + arr_b) # Output: [5 7 9]\n",
        "\n",
        "# Perkalian\n",
        "print(arr_a * arr_b) # Output: [ 4 10 18]\n",
        "\n",
        "# Operasi dengan skalar (satu angka)\n",
        "print(arr_a * 2) # Output: [2 4 6]"
      ],
      "metadata": {
        "colab": {
          "base_uri": "https://localhost:8080/"
        },
        "id": "4b3YetpNaIcy",
        "outputId": "52237047-746b-4507-cab3-8ce0bbfc87e9"
      },
      "execution_count": 33,
      "outputs": [
        {
          "output_type": "stream",
          "name": "stdout",
          "text": [
            "[5 7 9]\n",
            "[ 4 10 18]\n",
            "[2 4 6]\n"
          ]
        }
      ]
    },
    {
      "cell_type": "markdown",
      "source": [
        "####Universal Functions (Ufuncs)"
      ],
      "metadata": {
        "id": "ExhvN7t7aiuy"
      }
    },
    {
      "cell_type": "markdown",
      "source": [
        "NumPy menyediakan fungsi matematika yang bisa beroperasi pada seluruh elemen array secara efisien."
      ],
      "metadata": {
        "id": "R5lIeD2Lakui"
      }
    },
    {
      "cell_type": "code",
      "source": [
        "arr = np.array([1, 4, 9])\n",
        "\n",
        "# Akar kuadrat\n",
        "print(np.sqrt(arr)) # Output: [1. 2. 3.]\n",
        "\n",
        "# Eksponensial\n",
        "print(np.exp(arr)) #Output: [2.71828183e+00 5.45981500e+01 8.10308393e+03]\n",
        "\n",
        "# Sinus\n",
        "print(np.sin(arr)) #Output: [ 0.84147098 -0.7568025   0.41211849]"
      ],
      "metadata": {
        "colab": {
          "base_uri": "https://localhost:8080/"
        },
        "id": "815vf_1-an_a",
        "outputId": "6dece285-aae8-46aa-b9bf-448cb00fcb65"
      },
      "execution_count": 35,
      "outputs": [
        {
          "output_type": "stream",
          "name": "stdout",
          "text": [
            "[1. 2. 3.]\n",
            "[2.71828183e+00 5.45981500e+01 8.10308393e+03]\n",
            "[ 0.84147098 -0.7568025   0.41211849]\n"
          ]
        }
      ]
    },
    {
      "cell_type": "markdown",
      "source": [
        "####Operasi Agregasi (Statistika)"
      ],
      "metadata": {
        "id": "mYk4CclGa96q"
      }
    },
    {
      "cell_type": "markdown",
      "source": [
        "Menghitung nilai tunggal dari sebuah array.\n",
        "axis=0: Operasi dilakukan secara vertikal (sepanjang kolom).\n",
        "\n",
        "\n",
        "*   axis=1: Operasi dilakukan secara horizontal (sepanjang baris).\n",
        "*   axis=0: Operasi dilakukan secara vertikal (sepanjang kolom)."
      ],
      "metadata": {
        "id": "6vlxHur4bCjy"
      }
    },
    {
      "cell_type": "code",
      "source": [
        "arr_2d = np.array([[1, 2, 3], [4, 5, 6]])\n",
        "\n",
        "# Menjumlahkan semua elemen\n",
        "print(arr_2d.sum()) # Output: 21\n",
        "\n",
        "# Menghitung rata-rata\n",
        "print(arr_2d.mean()) # Output: 3.5\n",
        "\n",
        "#Menghitung Max\n",
        "print(arr_2d.max())\n",
        "\n",
        "#Menghitung Min\n",
        "print(arr_2d.min())\n",
        "\n",
        "# Menjumlahkan per kolom (axis=0)\n",
        "print(arr_2d.sum(axis=0)) # Output: [5 7 9] -> (1+4, 2+5, 3+6)\n",
        "\n",
        "# Menjumlahkan per baris (axis=1)\n",
        "print(arr_2d.sum(axis=1)) # Output: [ 6 15] -> (1+2+3, 4+5+6)"
      ],
      "metadata": {
        "colab": {
          "base_uri": "https://localhost:8080/"
        },
        "id": "WVmLyxoybFKi",
        "outputId": "f9e8decf-f3ce-4d0e-8004-c946587b7466"
      },
      "execution_count": 42,
      "outputs": [
        {
          "output_type": "stream",
          "name": "stdout",
          "text": [
            "21\n",
            "3.5\n",
            "6\n",
            "1\n",
            "[5 7 9]\n",
            "[ 6 15]\n"
          ]
        }
      ]
    },
    {
      "cell_type": "markdown",
      "source": [
        "#Manipulasi Bentuk Array"
      ],
      "metadata": {
        "id": "5P2omGLXdGLr"
      }
    },
    {
      "cell_type": "markdown",
      "source": [
        "####Merubah Bentuk: reshape()"
      ],
      "metadata": {
        "id": "vitaiQVXdHwi"
      }
    },
    {
      "cell_type": "markdown",
      "source": [
        "Fungsi ini mengubah array ke bentuk baru. Syaratnya, jumlah elemen total harus tetap sama."
      ],
      "metadata": {
        "id": "yxrrhAwddXMi"
      }
    },
    {
      "cell_type": "code",
      "source": [
        "# Array 1D dengan 12 elemen\n",
        "arr_1d = np.arange(12)\n",
        "print(\"Original:\", arr_1d)\n",
        "# Original: [ 0  1  2  3  4  5  6  7  8  9 10 11]\n",
        "\n",
        "# Diubah menjadi matriks 3 baris 4 kolom (3 * 4 = 12 elemen)\n",
        "arr_3x4 = arr_1d.reshape(3, 4)\n",
        "print(\"\\nReshaped 3x4:\\n\", arr_3x4)\n",
        "# Reshaped 3x4:\n",
        "#  [[ 0  1  2  3]\n",
        "#   [ 4  5  6  7]\n",
        "#   [ 8  9 10 11]]"
      ],
      "metadata": {
        "colab": {
          "base_uri": "https://localhost:8080/"
        },
        "id": "MhysW7ZydR86",
        "outputId": "60be206a-07d3-4aab-e4cb-fd17df641049"
      },
      "execution_count": 43,
      "outputs": [
        {
          "output_type": "stream",
          "name": "stdout",
          "text": [
            "Original: [ 0  1  2  3  4  5  6  7  8  9 10 11]\n",
            "\n",
            "Reshaped 3x4:\n",
            " [[ 0  1  2  3]\n",
            " [ 4  5  6  7]\n",
            " [ 8  9 10 11]]\n"
          ]
        }
      ]
    },
    {
      "cell_type": "markdown",
      "source": [
        "#Menggabungkan dan Memecah Array"
      ],
      "metadata": {
        "id": "b6N4Jh60dhZK"
      }
    },
    {
      "cell_type": "markdown",
      "source": [
        "####Menggabungkan Array: np.concatenate, np.vstack, np.hstack"
      ],
      "metadata": {
        "id": "3Q5GDhO0dwr6"
      }
    },
    {
      "cell_type": "code",
      "source": [
        "arr1 = np.array([[1, 2], [3, 4]])\n",
        "arr2 = np.array([[5, 6], [7, 8]])\n",
        "\n",
        "# Menumpuk baris (vertical)\n",
        "v_stack = np.vstack((arr1, arr2))\n",
        "print(\"Vertical Stack:\\n\", v_stack)\n",
        "# Vertical Stack:\n",
        "#  [[1 2]\n",
        "#   [3 4]\n",
        "#   [5 6]\n",
        "#   [7 8]]\n",
        "# Bentuknya menjadi (4, 2)\n",
        "\n",
        "# Menjajarkan kolom (horizontal)\n",
        "h_stack = np.hstack((arr1, arr2))\n",
        "print(\"\\nHorizontal Stack:\\n\", h_stack)\n",
        "# Horizontal Stack:\n",
        "#  [[1 2 5 6]\n",
        "#   [3 4 7 8]]\n",
        "# Bentuknya menjadi (2, 4)"
      ],
      "metadata": {
        "colab": {
          "base_uri": "https://localhost:8080/"
        },
        "id": "wkA5Ge6-ea16",
        "outputId": "a41c8ac5-3963-44f1-93b8-c657ac150318"
      },
      "execution_count": 44,
      "outputs": [
        {
          "output_type": "stream",
          "name": "stdout",
          "text": [
            "Vertical Stack:\n",
            " [[1 2]\n",
            " [3 4]\n",
            " [5 6]\n",
            " [7 8]]\n",
            "\n",
            "Horizontal Stack:\n",
            " [[1 2 5 6]\n",
            " [3 4 7 8]]\n"
          ]
        }
      ]
    },
    {
      "cell_type": "markdown",
      "source": [
        "#Broadcasting"
      ],
      "metadata": {
        "id": "WsBkkBa0eqYT"
      }
    },
    {
      "cell_type": "markdown",
      "source": [
        "Broadcasting adalah salah satu fitur paling kuat di NumPy. Ini adalah mekanisme yang memungkinkan NumPy melakukan operasi matematika pada array dengan bentuk (shape) yang berbeda.\n",
        "\n",
        "Secara sederhana, jika salah satu array lebih kecil, NumPy akan \"menyebarkan\" atau \"memperluas\" array yang lebih kecil tersebut agar bentuknya cocok untuk operasi."
      ],
      "metadata": {
        "id": "qCJtzhdiere7"
      }
    },
    {
      "cell_type": "code",
      "source": [
        "#contoh 1\n",
        "arr = np.array([1, 2, 3])\n",
        "hasil = arr + 5 # Sebenarnya, 5 di-broadcast menjadi [5, 5, 5]\n",
        "print(hasil)\n",
        "# Output: [6 7 8]\n",
        "\n",
        "\n",
        "#Contoh 2\n",
        "# Matriks 3x3\n",
        "matriks = np.array([[1, 2, 3],\n",
        "                    [4, 5, 6],\n",
        "                    [7, 8, 9]])\n",
        "\n",
        "# Vektor 1x3\n",
        "vektor = np.array([10, 20, 30])\n",
        "\n",
        "# Menambahkan vektor ke matriks\n",
        "# Vektor akan di-broadcast (disalin secara virtual) ke setiap baris matriks\n",
        "hasil = matriks + vektor\n",
        "print(hasil)\n",
        "# Output:\n",
        "# [[11 22 33]\n",
        "#  [14 25 36]\n",
        "#  [17 28 39]]"
      ],
      "metadata": {
        "colab": {
          "base_uri": "https://localhost:8080/"
        },
        "id": "j24heGF6ev7K",
        "outputId": "15dac01a-d333-4de3-d00a-d3c2901b33c6"
      },
      "execution_count": 45,
      "outputs": [
        {
          "output_type": "stream",
          "name": "stdout",
          "text": [
            "[6 7 8]\n",
            "[[11 22 33]\n",
            " [14 25 36]\n",
            " [17 28 39]]\n"
          ]
        }
      ]
    }
  ]
}